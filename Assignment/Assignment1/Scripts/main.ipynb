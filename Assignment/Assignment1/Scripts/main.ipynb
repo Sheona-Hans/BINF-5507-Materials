{
 "cells": [
  {
   "cell_type": "code",
   "execution_count": 1,
   "metadata": {},
   "outputs": [],
   "source": [
    "# Import necessary modules\n",
    "import pandas as pd\n",
    "from sklearn.linear_model import LogisticRegression\n",
    "from sklearn.metrics import accuracy_score\n",
    "\n",
    "# 1. Load the dataset\n",
    "messy_data = pd.read_csv('../Data/messy_data.csv')\n",
    "clean_data = messy_data.copy()"
   ]
  },
  {
   "cell_type": "markdown",
   "metadata": {},
   "source": [
    "### Analyze the Data"
   ]
  },
  {
   "cell_type": "code",
   "execution_count": 2,
   "metadata": {},
   "outputs": [
    {
     "data": {
      "text/html": [
       "<div>\n",
       "<style scoped>\n",
       "    .dataframe tbody tr th:only-of-type {\n",
       "        vertical-align: middle;\n",
       "    }\n",
       "\n",
       "    .dataframe tbody tr th {\n",
       "        vertical-align: top;\n",
       "    }\n",
       "\n",
       "    .dataframe thead th {\n",
       "        text-align: right;\n",
       "    }\n",
       "</style>\n",
       "<table border=\"1\" class=\"dataframe\">\n",
       "  <thead>\n",
       "    <tr style=\"text-align: right;\">\n",
       "      <th></th>\n",
       "      <th>target</th>\n",
       "      <th>a</th>\n",
       "      <th>b</th>\n",
       "      <th>c</th>\n",
       "      <th>d</th>\n",
       "      <th>e</th>\n",
       "      <th>f</th>\n",
       "      <th>g</th>\n",
       "      <th>h</th>\n",
       "      <th>i</th>\n",
       "      <th>...</th>\n",
       "      <th>r</th>\n",
       "      <th>s</th>\n",
       "      <th>t</th>\n",
       "      <th>u</th>\n",
       "      <th>v</th>\n",
       "      <th>w</th>\n",
       "      <th>x</th>\n",
       "      <th>y</th>\n",
       "      <th>z</th>\n",
       "      <th>{</th>\n",
       "    </tr>\n",
       "  </thead>\n",
       "  <tbody>\n",
       "    <tr>\n",
       "      <th>0</th>\n",
       "      <td>0.0</td>\n",
       "      <td>lv hypertrophy</td>\n",
       "      <td>0.531368</td>\n",
       "      <td>63</td>\n",
       "      <td>fixed defect</td>\n",
       "      <td>Cleveland</td>\n",
       "      <td>0.285812</td>\n",
       "      <td>typical angina</td>\n",
       "      <td>233.0</td>\n",
       "      <td>True</td>\n",
       "      <td>...</td>\n",
       "      <td>60.627689</td>\n",
       "      <td>Male</td>\n",
       "      <td>2.3</td>\n",
       "      <td>62.306825</td>\n",
       "      <td>145.0</td>\n",
       "      <td>-1.007833</td>\n",
       "      <td>0.0</td>\n",
       "      <td>61.730527</td>\n",
       "      <td>NaN</td>\n",
       "      <td>False</td>\n",
       "    </tr>\n",
       "    <tr>\n",
       "      <th>1</th>\n",
       "      <td>1.0</td>\n",
       "      <td>lv hypertrophy</td>\n",
       "      <td>-1.056253</td>\n",
       "      <td>67</td>\n",
       "      <td>normal</td>\n",
       "      <td>Cleveland</td>\n",
       "      <td>1.660947</td>\n",
       "      <td>asymptomatic</td>\n",
       "      <td>286.0</td>\n",
       "      <td>False</td>\n",
       "      <td>...</td>\n",
       "      <td>65.225088</td>\n",
       "      <td>Male</td>\n",
       "      <td>1.5</td>\n",
       "      <td>NaN</td>\n",
       "      <td>160.0</td>\n",
       "      <td>0.097395</td>\n",
       "      <td>3.0</td>\n",
       "      <td>66.310181</td>\n",
       "      <td>NaN</td>\n",
       "      <td>True</td>\n",
       "    </tr>\n",
       "    <tr>\n",
       "      <th>2</th>\n",
       "      <td>1.0</td>\n",
       "      <td>lv hypertrophy</td>\n",
       "      <td>0.438407</td>\n",
       "      <td>67</td>\n",
       "      <td>reversable defect</td>\n",
       "      <td>Cleveland</td>\n",
       "      <td>-0.305235</td>\n",
       "      <td>asymptomatic</td>\n",
       "      <td>229.0</td>\n",
       "      <td>False</td>\n",
       "      <td>...</td>\n",
       "      <td>66.956699</td>\n",
       "      <td>Male</td>\n",
       "      <td>2.6</td>\n",
       "      <td>65.493594</td>\n",
       "      <td>120.0</td>\n",
       "      <td>NaN</td>\n",
       "      <td>2.0</td>\n",
       "      <td>66.005086</td>\n",
       "      <td>NaN</td>\n",
       "      <td>True</td>\n",
       "    </tr>\n",
       "    <tr>\n",
       "      <th>3</th>\n",
       "      <td>0.0</td>\n",
       "      <td>normal</td>\n",
       "      <td>-1.413430</td>\n",
       "      <td>37</td>\n",
       "      <td>normal</td>\n",
       "      <td>Cleveland</td>\n",
       "      <td>0.887054</td>\n",
       "      <td>non-anginal</td>\n",
       "      <td>250.0</td>\n",
       "      <td>False</td>\n",
       "      <td>...</td>\n",
       "      <td>37.160246</td>\n",
       "      <td>Male</td>\n",
       "      <td>3.5</td>\n",
       "      <td>38.824367</td>\n",
       "      <td>130.0</td>\n",
       "      <td>-1.291802</td>\n",
       "      <td>0.0</td>\n",
       "      <td>37.473600</td>\n",
       "      <td>NaN</td>\n",
       "      <td>False</td>\n",
       "    </tr>\n",
       "    <tr>\n",
       "      <th>4</th>\n",
       "      <td>0.0</td>\n",
       "      <td>lv hypertrophy</td>\n",
       "      <td>-1.347216</td>\n",
       "      <td>41</td>\n",
       "      <td>normal</td>\n",
       "      <td>Cleveland</td>\n",
       "      <td>-0.558037</td>\n",
       "      <td>atypical angina</td>\n",
       "      <td>204.0</td>\n",
       "      <td>False</td>\n",
       "      <td>...</td>\n",
       "      <td>41.359067</td>\n",
       "      <td>Female</td>\n",
       "      <td>1.4</td>\n",
       "      <td>NaN</td>\n",
       "      <td>130.0</td>\n",
       "      <td>0.585360</td>\n",
       "      <td>0.0</td>\n",
       "      <td>41.363575</td>\n",
       "      <td>NaN</td>\n",
       "      <td>False</td>\n",
       "    </tr>\n",
       "  </tbody>\n",
       "</table>\n",
       "<p>5 rows × 28 columns</p>\n",
       "</div>"
      ],
      "text/plain": [
       "   target               a         b   c                  d          e  \\\n",
       "0     0.0  lv hypertrophy  0.531368  63       fixed defect  Cleveland   \n",
       "1     1.0  lv hypertrophy -1.056253  67             normal  Cleveland   \n",
       "2     1.0  lv hypertrophy  0.438407  67  reversable defect  Cleveland   \n",
       "3     0.0          normal -1.413430  37             normal  Cleveland   \n",
       "4     0.0  lv hypertrophy -1.347216  41             normal  Cleveland   \n",
       "\n",
       "          f                g      h      i  ...          r       s    t  \\\n",
       "0  0.285812   typical angina  233.0   True  ...  60.627689    Male  2.3   \n",
       "1  1.660947     asymptomatic  286.0  False  ...  65.225088    Male  1.5   \n",
       "2 -0.305235     asymptomatic  229.0  False  ...  66.956699    Male  2.6   \n",
       "3  0.887054      non-anginal  250.0  False  ...  37.160246    Male  3.5   \n",
       "4 -0.558037  atypical angina  204.0  False  ...  41.359067  Female  1.4   \n",
       "\n",
       "           u      v         w    x          y   z      {  \n",
       "0  62.306825  145.0 -1.007833  0.0  61.730527 NaN  False  \n",
       "1        NaN  160.0  0.097395  3.0  66.310181 NaN   True  \n",
       "2  65.493594  120.0       NaN  2.0  66.005086 NaN   True  \n",
       "3  38.824367  130.0 -1.291802  0.0  37.473600 NaN  False  \n",
       "4        NaN  130.0  0.585360  0.0  41.363575 NaN  False  \n",
       "\n",
       "[5 rows x 28 columns]"
      ]
     },
     "execution_count": 2,
     "metadata": {},
     "output_type": "execute_result"
    }
   ],
   "source": [
    "# Display the first few rows of the messy data\n",
    "messy_data.head()"
   ]
  },
  {
   "cell_type": "code",
   "execution_count": 3,
   "metadata": {},
   "outputs": [
    {
     "name": "stdout",
     "output_type": "stream",
     "text": [
      "<class 'pandas.core.frame.DataFrame'>\n",
      "RangeIndex: 1196 entries, 0 to 1195\n",
      "Data columns (total 28 columns):\n",
      " #   Column  Non-Null Count  Dtype  \n",
      "---  ------  --------------  -----  \n",
      " 0   target  920 non-null    float64\n",
      " 1   a       1193 non-null   object \n",
      " 2   b       1196 non-null   float64\n",
      " 3   c       1196 non-null   int64  \n",
      " 4   d       561 non-null    object \n",
      " 5   e       1196 non-null   object \n",
      " 6   f       1196 non-null   float64\n",
      " 7   g       1196 non-null   object \n",
      " 8   h       1158 non-null   float64\n",
      " 9   i       1087 non-null   object \n",
      " 10  j       591 non-null    float64\n",
      " 11  k       1196 non-null   float64\n",
      " 12  l       1196 non-null   float64\n",
      " 13  m       778 non-null    object \n",
      " 14  n       1012 non-null   float64\n",
      " 15  o       1008 non-null   float64\n",
      " 16  p       1122 non-null   float64\n",
      " 17  q       1009 non-null   float64\n",
      " 18  r       1196 non-null   float64\n",
      " 19  s       1196 non-null   object \n",
      " 20  t       1110 non-null   float64\n",
      " 21  u       1079 non-null   float64\n",
      " 22  v       1116 non-null   float64\n",
      " 23  w       1079 non-null   float64\n",
      " 24  x       397 non-null    float64\n",
      " 25  y       1196 non-null   float64\n",
      " 26  z       598 non-null    float64\n",
      " 27  {       1122 non-null   object \n",
      "dtypes: float64(19), int64(1), object(8)\n",
      "memory usage: 261.8+ KB\n"
     ]
    }
   ],
   "source": [
    "# Check data types and null values (can be obtained from the count column)\n",
    "messy_data.info()"
   ]
  },
  {
   "cell_type": "code",
   "execution_count": 4,
   "metadata": {},
   "outputs": [
    {
     "data": {
      "text/html": [
       "<div>\n",
       "<style scoped>\n",
       "    .dataframe tbody tr th:only-of-type {\n",
       "        vertical-align: middle;\n",
       "    }\n",
       "\n",
       "    .dataframe tbody tr th {\n",
       "        vertical-align: top;\n",
       "    }\n",
       "\n",
       "    .dataframe thead th {\n",
       "        text-align: right;\n",
       "    }\n",
       "</style>\n",
       "<table border=\"1\" class=\"dataframe\">\n",
       "  <thead>\n",
       "    <tr style=\"text-align: right;\">\n",
       "      <th></th>\n",
       "      <th>target</th>\n",
       "      <th>b</th>\n",
       "      <th>c</th>\n",
       "      <th>f</th>\n",
       "      <th>h</th>\n",
       "      <th>j</th>\n",
       "      <th>k</th>\n",
       "      <th>l</th>\n",
       "      <th>n</th>\n",
       "      <th>o</th>\n",
       "      <th>p</th>\n",
       "      <th>q</th>\n",
       "      <th>r</th>\n",
       "      <th>t</th>\n",
       "      <th>u</th>\n",
       "      <th>v</th>\n",
       "      <th>w</th>\n",
       "      <th>x</th>\n",
       "      <th>y</th>\n",
       "      <th>z</th>\n",
       "    </tr>\n",
       "  </thead>\n",
       "  <tbody>\n",
       "    <tr>\n",
       "      <th>count</th>\n",
       "      <td>920.000000</td>\n",
       "      <td>1196.000000</td>\n",
       "      <td>1196.000000</td>\n",
       "      <td>1196.000000</td>\n",
       "      <td>1158.000000</td>\n",
       "      <td>591.000000</td>\n",
       "      <td>1196.000000</td>\n",
       "      <td>1196.000000</td>\n",
       "      <td>1012.000000</td>\n",
       "      <td>1008.000000</td>\n",
       "      <td>1122.000000</td>\n",
       "      <td>1009.000000</td>\n",
       "      <td>1196.000000</td>\n",
       "      <td>1110.000000</td>\n",
       "      <td>1079.000000</td>\n",
       "      <td>1116.000000</td>\n",
       "      <td>1079.000000</td>\n",
       "      <td>397.000000</td>\n",
       "      <td>1196.000000</td>\n",
       "      <td>598.000000</td>\n",
       "    </tr>\n",
       "    <tr>\n",
       "      <th>mean</th>\n",
       "      <td>0.553261</td>\n",
       "      <td>0.004015</td>\n",
       "      <td>53.383779</td>\n",
       "      <td>0.001391</td>\n",
       "      <td>200.583765</td>\n",
       "      <td>-0.600216</td>\n",
       "      <td>0.007269</td>\n",
       "      <td>-0.013268</td>\n",
       "      <td>4.904847</td>\n",
       "      <td>137.780754</td>\n",
       "      <td>137.660298</td>\n",
       "      <td>137.259233</td>\n",
       "      <td>53.376221</td>\n",
       "      <td>0.872252</td>\n",
       "      <td>53.328760</td>\n",
       "      <td>132.247312</td>\n",
       "      <td>0.034028</td>\n",
       "      <td>0.667506</td>\n",
       "      <td>53.379991</td>\n",
       "      <td>-0.757779</td>\n",
       "    </tr>\n",
       "    <tr>\n",
       "      <th>std</th>\n",
       "      <td>0.497426</td>\n",
       "      <td>0.984837</td>\n",
       "      <td>9.534033</td>\n",
       "      <td>1.011656</td>\n",
       "      <td>110.061582</td>\n",
       "      <td>1.067309</td>\n",
       "      <td>2.498874</td>\n",
       "      <td>0.958741</td>\n",
       "      <td>0.200283</td>\n",
       "      <td>26.175380</td>\n",
       "      <td>25.890960</td>\n",
       "      <td>25.790053</td>\n",
       "      <td>9.603964</td>\n",
       "      <td>1.077211</td>\n",
       "      <td>9.645423</td>\n",
       "      <td>18.872281</td>\n",
       "      <td>0.995701</td>\n",
       "      <td>0.924021</td>\n",
       "      <td>9.564497</td>\n",
       "      <td>1.257376</td>\n",
       "    </tr>\n",
       "    <tr>\n",
       "      <th>min</th>\n",
       "      <td>0.000000</td>\n",
       "      <td>-3.308750</td>\n",
       "      <td>28.000000</td>\n",
       "      <td>-2.820047</td>\n",
       "      <td>0.000000</td>\n",
       "      <td>-5.954661</td>\n",
       "      <td>-24.268796</td>\n",
       "      <td>-2.802329</td>\n",
       "      <td>4.094345</td>\n",
       "      <td>60.000000</td>\n",
       "      <td>60.522848</td>\n",
       "      <td>60.035804</td>\n",
       "      <td>27.548190</td>\n",
       "      <td>-2.600000</td>\n",
       "      <td>28.743286</td>\n",
       "      <td>0.000000</td>\n",
       "      <td>-3.087673</td>\n",
       "      <td>0.000000</td>\n",
       "      <td>26.549257</td>\n",
       "      <td>-7.293222</td>\n",
       "    </tr>\n",
       "    <tr>\n",
       "      <th>25%</th>\n",
       "      <td>0.000000</td>\n",
       "      <td>-0.692960</td>\n",
       "      <td>47.000000</td>\n",
       "      <td>-0.633350</td>\n",
       "      <td>176.250000</td>\n",
       "      <td>-1.113061</td>\n",
       "      <td>-0.722036</td>\n",
       "      <td>-0.636907</td>\n",
       "      <td>4.787492</td>\n",
       "      <td>120.000000</td>\n",
       "      <td>119.742012</td>\n",
       "      <td>119.041270</td>\n",
       "      <td>46.857255</td>\n",
       "      <td>0.000000</td>\n",
       "      <td>46.541317</td>\n",
       "      <td>120.000000</td>\n",
       "      <td>-0.601836</td>\n",
       "      <td>0.000000</td>\n",
       "      <td>46.931375</td>\n",
       "      <td>-1.316941</td>\n",
       "    </tr>\n",
       "    <tr>\n",
       "      <th>50%</th>\n",
       "      <td>1.000000</td>\n",
       "      <td>0.004241</td>\n",
       "      <td>54.000000</td>\n",
       "      <td>-0.051965</td>\n",
       "      <td>224.000000</td>\n",
       "      <td>-0.324872</td>\n",
       "      <td>0.002258</td>\n",
       "      <td>-0.000074</td>\n",
       "      <td>4.941642</td>\n",
       "      <td>140.000000</td>\n",
       "      <td>139.676137</td>\n",
       "      <td>139.602369</td>\n",
       "      <td>54.126896</td>\n",
       "      <td>0.500000</td>\n",
       "      <td>54.148423</td>\n",
       "      <td>130.000000</td>\n",
       "      <td>0.035589</td>\n",
       "      <td>0.000000</td>\n",
       "      <td>54.448992</td>\n",
       "      <td>-0.439484</td>\n",
       "    </tr>\n",
       "    <tr>\n",
       "      <th>75%</th>\n",
       "      <td>1.000000</td>\n",
       "      <td>0.714572</td>\n",
       "      <td>60.000000</td>\n",
       "      <td>0.693539</td>\n",
       "      <td>270.000000</td>\n",
       "      <td>0.136188</td>\n",
       "      <td>0.699648</td>\n",
       "      <td>0.642745</td>\n",
       "      <td>5.062595</td>\n",
       "      <td>157.000000</td>\n",
       "      <td>157.382495</td>\n",
       "      <td>156.970305</td>\n",
       "      <td>60.324072</td>\n",
       "      <td>1.500000</td>\n",
       "      <td>60.418600</td>\n",
       "      <td>140.000000</td>\n",
       "      <td>0.723486</td>\n",
       "      <td>1.000000</td>\n",
       "      <td>59.812460</td>\n",
       "      <td>0.094453</td>\n",
       "    </tr>\n",
       "    <tr>\n",
       "      <th>max</th>\n",
       "      <td>1.000000</td>\n",
       "      <td>2.982511</td>\n",
       "      <td>77.000000</td>\n",
       "      <td>3.323155</td>\n",
       "      <td>603.000000</td>\n",
       "      <td>1.369476</td>\n",
       "      <td>27.315031</td>\n",
       "      <td>3.328148</td>\n",
       "      <td>5.273000</td>\n",
       "      <td>202.000000</td>\n",
       "      <td>200.680509</td>\n",
       "      <td>202.572685</td>\n",
       "      <td>77.484697</td>\n",
       "      <td>6.200000</td>\n",
       "      <td>78.520864</td>\n",
       "      <td>200.000000</td>\n",
       "      <td>3.933288</td>\n",
       "      <td>3.000000</td>\n",
       "      <td>79.712348</td>\n",
       "      <td>1.202416</td>\n",
       "    </tr>\n",
       "  </tbody>\n",
       "</table>\n",
       "</div>"
      ],
      "text/plain": [
       "           target            b            c            f            h  \\\n",
       "count  920.000000  1196.000000  1196.000000  1196.000000  1158.000000   \n",
       "mean     0.553261     0.004015    53.383779     0.001391   200.583765   \n",
       "std      0.497426     0.984837     9.534033     1.011656   110.061582   \n",
       "min      0.000000    -3.308750    28.000000    -2.820047     0.000000   \n",
       "25%      0.000000    -0.692960    47.000000    -0.633350   176.250000   \n",
       "50%      1.000000     0.004241    54.000000    -0.051965   224.000000   \n",
       "75%      1.000000     0.714572    60.000000     0.693539   270.000000   \n",
       "max      1.000000     2.982511    77.000000     3.323155   603.000000   \n",
       "\n",
       "                j            k            l            n            o  \\\n",
       "count  591.000000  1196.000000  1196.000000  1012.000000  1008.000000   \n",
       "mean    -0.600216     0.007269    -0.013268     4.904847   137.780754   \n",
       "std      1.067309     2.498874     0.958741     0.200283    26.175380   \n",
       "min     -5.954661   -24.268796    -2.802329     4.094345    60.000000   \n",
       "25%     -1.113061    -0.722036    -0.636907     4.787492   120.000000   \n",
       "50%     -0.324872     0.002258    -0.000074     4.941642   140.000000   \n",
       "75%      0.136188     0.699648     0.642745     5.062595   157.000000   \n",
       "max      1.369476    27.315031     3.328148     5.273000   202.000000   \n",
       "\n",
       "                 p            q            r            t            u  \\\n",
       "count  1122.000000  1009.000000  1196.000000  1110.000000  1079.000000   \n",
       "mean    137.660298   137.259233    53.376221     0.872252    53.328760   \n",
       "std      25.890960    25.790053     9.603964     1.077211     9.645423   \n",
       "min      60.522848    60.035804    27.548190    -2.600000    28.743286   \n",
       "25%     119.742012   119.041270    46.857255     0.000000    46.541317   \n",
       "50%     139.676137   139.602369    54.126896     0.500000    54.148423   \n",
       "75%     157.382495   156.970305    60.324072     1.500000    60.418600   \n",
       "max     200.680509   202.572685    77.484697     6.200000    78.520864   \n",
       "\n",
       "                 v            w           x            y           z  \n",
       "count  1116.000000  1079.000000  397.000000  1196.000000  598.000000  \n",
       "mean    132.247312     0.034028    0.667506    53.379991   -0.757779  \n",
       "std      18.872281     0.995701    0.924021     9.564497    1.257376  \n",
       "min       0.000000    -3.087673    0.000000    26.549257   -7.293222  \n",
       "25%     120.000000    -0.601836    0.000000    46.931375   -1.316941  \n",
       "50%     130.000000     0.035589    0.000000    54.448992   -0.439484  \n",
       "75%     140.000000     0.723486    1.000000    59.812460    0.094453  \n",
       "max     200.000000     3.933288    3.000000    79.712348    1.202416  "
      ]
     },
     "execution_count": 4,
     "metadata": {},
     "output_type": "execute_result"
    }
   ],
   "source": [
    "# Check basic statistics of the messy data\n",
    "messy_data.describe()"
   ]
  },
  {
   "cell_type": "markdown",
   "metadata": {},
   "source": [
    "### 2. Identify Issues"
   ]
  },
  {
   "cell_type": "code",
   "execution_count": 5,
   "metadata": {},
   "outputs": [
    {
     "name": "stdout",
     "output_type": "stream",
     "text": [
      "Missing values in each column:\n",
      "target    276\n",
      "a           3\n",
      "d         635\n",
      "h          38\n",
      "i         109\n",
      "j         605\n",
      "m         418\n",
      "n         184\n",
      "o         188\n",
      "p          74\n",
      "q         187\n",
      "t          86\n",
      "u         117\n",
      "v          80\n",
      "w         117\n",
      "x         799\n",
      "z         598\n",
      "{          74\n",
      "dtype: int64\n"
     ]
    }
   ],
   "source": [
    "# Count missing values in each column\n",
    "missing_values = messy_data.isnull().sum()\n",
    "print (\"Missing values in each column:\")\n",
    "print(missing_values[missing_values > 0])"
   ]
  },
  {
   "cell_type": "code",
   "execution_count": 6,
   "metadata": {},
   "outputs": [
    {
     "name": "stdout",
     "output_type": "stream",
     "text": [
      "Index([], dtype='object')\n",
      "Index([], dtype='object')\n"
     ]
    }
   ],
   "source": [
    "# Check for duplicates\n",
    "print(messy_data.columns[messy_data.columns.duplicated()])\n",
    "# Check for columns with all identical values\n",
    "print (messy_data.columns[messy_data.nunique() <= 1])"
   ]
  },
  {
   "cell_type": "code",
   "execution_count": 7,
   "metadata": {},
   "outputs": [
    {
     "name": "stdout",
     "output_type": "stream",
     "text": [
      "Column 'a' unique values: ['lv hypertrophy' 'normal' 'st-t abnormality' nan]\n",
      "Column 'd' unique values: ['fixed defect' 'normal' 'reversable defect' nan]\n",
      "Column 'e' unique values: ['Cleveland' 'Hungary' 'Switzerland' 'VA Long Beach']\n",
      "Column 'g' unique values: ['typical angina' 'asymptomatic' 'non-anginal' 'atypical angina']\n",
      "Column 'i' unique values: [True False nan]\n",
      "Column 'm' unique values: ['downsloping' 'flat' 'upsloping' nan]\n",
      "Column 's' unique values: ['Male' 'Female']\n",
      "Column '{' unique values: [False True nan]\n"
     ]
    }
   ],
   "source": [
    "# Check for incosistent data types\n",
    "object_columns = messy_data.select_dtypes(include=['object']).columns\n",
    "for col in object_columns:\n",
    "    print(f\"Column '{col}' unique values: {messy_data[col].unique()}\")"
   ]
  },
  {
   "cell_type": "markdown",
   "metadata": {},
   "source": [
    "### Inference\n",
    "1. The following columns have nan - a, d,i, m, {"
   ]
  },
  {
   "cell_type": "code",
   "execution_count": 8,
   "metadata": {},
   "outputs": [
    {
     "name": "stdout",
     "output_type": "stream",
     "text": [
      "Columns to encode: ['a', 'd', 'e', 'g', 'i', 'm', 's', '{']\n",
      "Boolean columns to encode: []\n"
     ]
    }
   ],
   "source": [
    "# Categorical columns that need encoding\n",
    "categorical_columns = messy_data.select_dtypes(include=['object', 'category']).columns.tolist()\n",
    "boolean_columns = messy_data.select_dtypes(include=['bool']).columns.tolist()\n",
    "\n",
    "# Columns that need encoding - columns with more than 1 non-null unique value\n",
    "cat_columns_to_encode = [col for col in categorical_columns if messy_data[col].nunique() > 1]\n",
    "bool_columns_to_encode = [col for col in boolean_columns if messy_data[col].nunique() > 1]\n",
    "\n",
    "print(\"Columns to encode:\", cat_columns_to_encode)\n",
    "print(\"Boolean columns to encode:\", bool_columns_to_encode)"
   ]
  },
  {
   "cell_type": "code",
   "execution_count": 9,
   "metadata": {},
   "outputs": [
    {
     "name": "stdout",
     "output_type": "stream",
     "text": [
      "Numeric columns for outlier detection: 20\n",
      "Informative column count for outlier detection: 19\n",
      "Column count with outliers: 4\n"
     ]
    }
   ],
   "source": [
    "# Identify outliers with visualization\n",
    "import seaborn as sns\n",
    "import matplotlib.pyplot as plt\n",
    "from scipy.stats import zscore\n",
    "# Plot a boxplot to visualize outliers\n",
    "numeric_columns = messy_data.select_dtypes(include=['float64', 'int64']).columns\n",
    "print(f\"Numeric columns for outlier detection: {len(numeric_columns)}\")\n",
    "# columns with more than 2 unique values are considered informative and will be used for outlier detection\n",
    "informative_columns = [col for col in numeric_columns if messy_data[col].nunique() > 2]\n",
    "print (f\"Informative column count for outlier detection: {len(informative_columns)}\")\n",
    "# Reduce the number of columns for visualization using z-score method\n",
    "z_scores = messy_data[informative_columns].apply(zscore).abs()\n",
    "# Count the number of outliers in each column\n",
    "outlier_counts = (z_scores > 3).sum()\n",
    "columns_with_outliers = outlier_counts[outlier_counts > 0].index.tolist()\n",
    "print (f\"Column count with outliers: {len(columns_with_outliers)}\")"
   ]
  },
  {
   "cell_type": "code",
   "execution_count": 10,
   "metadata": {},
   "outputs": [
    {
     "data": {
      "image/png": "[encoded data removed]",
      "text/plain": [
       "<Figure size 1000x600 with 1 Axes>"
      ]
     },
     "metadata": {},
     "output_type": "display_data"
    },
    {
     "data": {
      "image/png": "[encoded data removed]",
      "text/plain": [
       "<Figure size 1000x600 with 1 Axes>"
      ]
     },
     "metadata": {},
     "output_type": "display_data"
    },
    {
     "data": {
      "image/png": "[encoded data removed]",
      "text/plain": [
       "<Figure size 1000x600 with 1 Axes>"
      ]
     },
     "metadata": {},
     "output_type": "display_data"
    },
    {
     "data": {
      "image/png": "[encoded data removed]",
      "text/plain": [
       "<Figure size 1000x600 with 1 Axes>"
      ]
     },
     "metadata": {},
     "output_type": "display_data"
    }
   ],
   "source": [
    "# Visualize columns with outliers\n",
    "for col in columns_with_outliers:\n",
    "    plt.figure(figsize=(10, 6))\n",
    "    sns.histplot(messy_data[col], bins=30, kde=True)\n",
    "    plt.title(f'Boxplot of {col} with Outliers')\n",
    "    plt.show()"
   ]
  },
  {
   "cell_type": "code",
   "execution_count": 11,
   "metadata": {},
   "outputs": [
    {
     "name": "stdout",
     "output_type": "stream",
     "text": [
      "Before Imputation:\n",
      "target    276\n",
      "a           3\n",
      "b           0\n",
      "c           0\n",
      "d         635\n",
      "e           0\n",
      "f           0\n",
      "g           0\n",
      "h          38\n",
      "i         109\n",
      "j         605\n",
      "k           0\n",
      "l           0\n",
      "m         418\n",
      "n         184\n",
      "o         188\n",
      "p          74\n",
      "q         187\n",
      "r           0\n",
      "s           0\n",
      "t          86\n",
      "u         117\n",
      "v          80\n",
      "w         117\n",
      "x         799\n",
      "y           0\n",
      "z         598\n",
      "{          74\n",
      "dtype: int64\n"
     ]
    }
   ],
   "source": [
    "import data_preprocessor as dp\n",
    "# Step 1 - Imputation of missing values\n",
    "print (\"Before Imputation:\")\n",
    "print (messy_data.isnull().sum())"
   ]
  },
  {
   "cell_type": "code",
   "execution_count": 12,
   "metadata": {},
   "outputs": [
    {
     "name": "stdout",
     "output_type": "stream",
     "text": [
      "After Imputation:\n",
      "target    276\n",
      "a           3\n",
      "b           0\n",
      "c           0\n",
      "d         635\n",
      "e           0\n",
      "f           0\n",
      "g           0\n",
      "h           0\n",
      "i         109\n",
      "j           0\n",
      "k           0\n",
      "l           0\n",
      "m         418\n",
      "n           0\n",
      "o           0\n",
      "p           0\n",
      "q           0\n",
      "r           0\n",
      "s           0\n",
      "t           0\n",
      "u           0\n",
      "v           0\n",
      "w           0\n",
      "x           0\n",
      "y           0\n",
      "z           0\n",
      "{          74\n",
      "dtype: int64\n"
     ]
    },
    {
     "name": "stderr",
     "output_type": "stream",
     "text": [
      "c:\\Users\\SHEONA HANS\\OneDrive\\Documents\\Course\\ML & AI\\BINF-5507-Materials\\Assignment1\\Scripts\\data_preprocessor.py:23: FutureWarning: A value is trying to be set on a copy of a DataFrame or Series through chained assignment using an inplace method.\n",
      "The behavior will change in pandas 3.0. This inplace method will never work because the intermediate object on which we are setting values always behaves as a copy.\n",
      "\n",
      "For example, when doing 'df[col].method(value, inplace=True)', try using 'df.method({col: value}, inplace=True)' or df[col] = df[col].method(value) instead, to perform the operation inplace on the original object.\n",
      "\n",
      "\n",
      "  df[col].fillna(df[col].mean(), inplace=True)\n"
     ]
    }
   ],
   "source": [
    "clean_data = dp.impute_missing_values(clean_data, strategy='mean')\n",
    "print (\"After Imputation:\")\n",
    "print (clean_data.isnull().sum())"
   ]
  },
  {
   "cell_type": "code",
   "execution_count": 13,
   "metadata": {},
   "outputs": [
    {
     "name": "stdout",
     "output_type": "stream",
     "text": [
      "Shape before removing duplicates: (1196, 28)\n",
      "Shape after removing duplicates: (1196, 28)\n"
     ]
    }
   ],
   "source": [
    "print (\"Shape before removing duplicates:\", messy_data.shape)\n",
    "clean_data = dp.remove_duplicates(clean_data)\n",
    "print (\"Shape after removing duplicates:\", clean_data.shape)"
   ]
  },
  {
   "cell_type": "code",
   "execution_count": 14,
   "metadata": {},
   "outputs": [
    {
     "name": "stdout",
     "output_type": "stream",
     "text": [
      "Before Normalization:\n",
      "           target            b            c            f            h  \\\n",
      "count  920.000000  1196.000000  1196.000000  1196.000000  1158.000000   \n",
      "mean     0.553261     0.004015    53.383779     0.001391   200.583765   \n",
      "std      0.497426     0.984837     9.534033     1.011656   110.061582   \n",
      "min      0.000000    -3.308750    28.000000    -2.820047     0.000000   \n",
      "25%      0.000000    -0.692960    47.000000    -0.633350   176.250000   \n",
      "50%      1.000000     0.004241    54.000000    -0.051965   224.000000   \n",
      "75%      1.000000     0.714572    60.000000     0.693539   270.000000   \n",
      "max      1.000000     2.982511    77.000000     3.323155   603.000000   \n",
      "\n",
      "                j            k            l            n            o  \\\n",
      "count  591.000000  1196.000000  1196.000000  1012.000000  1008.000000   \n",
      "mean    -0.600216     0.007269    -0.013268     4.904847   137.780754   \n",
      "std      1.067309     2.498874     0.958741     0.200283    26.175380   \n",
      "min     -5.954661   -24.268796    -2.802329     4.094345    60.000000   \n",
      "25%     -1.113061    -0.722036    -0.636907     4.787492   120.000000   \n",
      "50%     -0.324872     0.002258    -0.000074     4.941642   140.000000   \n",
      "75%      0.136188     0.699648     0.642745     5.062595   157.000000   \n",
      "max      1.369476    27.315031     3.328148     5.273000   202.000000   \n",
      "\n",
      "                 p            q            r            t            u  \\\n",
      "count  1122.000000  1009.000000  1196.000000  1110.000000  1079.000000   \n",
      "mean    137.660298   137.259233    53.376221     0.872252    53.328760   \n",
      "std      25.890960    25.790053     9.603964     1.077211     9.645423   \n",
      "min      60.522848    60.035804    27.548190    -2.600000    28.743286   \n",
      "25%     119.742012   119.041270    46.857255     0.000000    46.541317   \n",
      "50%     139.676137   139.602369    54.126896     0.500000    54.148423   \n",
      "75%     157.382495   156.970305    60.324072     1.500000    60.418600   \n",
      "max     200.680509   202.572685    77.484697     6.200000    78.520864   \n",
      "\n",
      "                 v            w           x            y           z  \n",
      "count  1116.000000  1079.000000  397.000000  1196.000000  598.000000  \n",
      "mean    132.247312     0.034028    0.667506    53.379991   -0.757779  \n",
      "std      18.872281     0.995701    0.924021     9.564497    1.257376  \n",
      "min       0.000000    -3.087673    0.000000    26.549257   -7.293222  \n",
      "25%     120.000000    -0.601836    0.000000    46.931375   -1.316941  \n",
      "50%     130.000000     0.035589    0.000000    54.448992   -0.439484  \n",
      "75%     140.000000     0.723486    1.000000    59.812460    0.094453  \n",
      "max     200.000000     3.933288    3.000000    79.712348    1.202416  \n"
     ]
    }
   ],
   "source": [
    "print (\"Before Normalization:\")\n",
    "print (messy_data.describe())"
   ]
  },
  {
   "cell_type": "code",
   "execution_count": 15,
   "metadata": {},
   "outputs": [
    {
     "name": "stdout",
     "output_type": "stream",
     "text": [
      "After Normalization:\n",
      "           target            b            c            f            h  \\\n",
      "count  920.000000  1196.000000  1196.000000  1196.000000  1196.000000   \n",
      "mean     0.553261     0.526566     0.518036     0.459278     0.332643   \n",
      "std      0.497426     0.156540     0.194572     0.164679     0.179598   \n",
      "min      0.000000     0.000000     0.000000     0.000000     0.000000   \n",
      "25%      0.000000     0.415781     0.387755     0.355954     0.296849   \n",
      "50%      1.000000     0.526602     0.530612     0.450593     0.369818   \n",
      "75%      1.000000     0.639510     0.653061     0.571947     0.444859   \n",
      "max      1.000000     1.000000     1.000000     1.000000     1.000000   \n",
      "\n",
      "                 j            k            l            n            o  \\\n",
      "count  1196.000000  1196.000000  1196.000000  1196.000000  1196.000000   \n",
      "mean      0.731068     0.470614     0.454950     0.687651     0.547752   \n",
      "std       0.102394     0.048443     0.156389     0.156296     0.169214   \n",
      "min       0.000000     0.000000     0.000000     0.000000     0.000000   \n",
      "25%       0.731068     0.456476     0.353222     0.602107     0.436620   \n",
      "50%       0.731068     0.470517     0.457102     0.687651     0.547752   \n",
      "75%       0.765805     0.484036     0.561959     0.799732     0.661972   \n",
      "max       1.000000     1.000000     1.000000     1.000000     1.000000   \n",
      "\n",
      "                 p            q            r            t            u  \\\n",
      "count  1196.000000  1196.000000  1196.000000  1196.000000  1196.000000   \n",
      "mean      0.550362     0.541779     0.517217     0.394574     0.493907   \n",
      "std       0.178916     0.166177     0.192324     0.117923     0.184040   \n",
      "min       0.000000     0.000000     0.000000     0.000000     0.000000   \n",
      "25%       0.429315     0.434409     0.386672     0.295455     0.384088   \n",
      "50%       0.550362     0.541779     0.532250     0.380682     0.493907   \n",
      "75%       0.678210     0.646615     0.656351     0.465909     0.617091   \n",
      "max       1.000000     1.000000     1.000000     1.000000     1.000000   \n",
      "\n",
      "                 v            w            x            y            z  \n",
      "count  1196.000000  1196.000000  1196.000000  1196.000000  1196.000000  \n",
      "mean      0.661237     0.444626     0.222502     0.504687     0.769270  \n",
      "std       0.091148     0.134697     0.177306     0.179909     0.104610  \n",
      "min       0.000000     0.000000     0.000000     0.000000     0.000000  \n",
      "25%       0.600000     0.365728     0.222502     0.383389     0.769270  \n",
      "50%       0.650000     0.444626     0.222502     0.524795     0.769270  \n",
      "75%       0.700000     0.524538     0.222502     0.625682     0.806438  \n",
      "max       1.000000     1.000000     1.000000     1.000000     1.000000  \n"
     ]
    }
   ],
   "source": [
    "clean_data = dp.normalize_data(clean_data)\n",
    "print (\"After Normalization:\")\n",
    "print (clean_data.describe())"
   ]
  },
  {
   "cell_type": "code",
   "execution_count": 16,
   "metadata": {},
   "outputs": [
    {
     "name": "stdout",
     "output_type": "stream",
     "text": [
      "Shape before removing redundant_features: (1196, 28)\n",
      "Shape after removing redundant_features: (1196, 22)\n"
     ]
    }
   ],
   "source": [
    "print (\"Shape before removing redundant_features:\", messy_data.shape)\n",
    "clean_data = dp.remove_redundant_features(clean_data)\n",
    "print (\"Shape after removing redundant_features:\", clean_data.shape)"
   ]
  },
  {
   "cell_type": "code",
   "execution_count": 17,
   "metadata": {},
   "outputs": [],
   "source": [
    "# 3. Save the cleaned dataset\n",
    "clean_data.to_csv('../Data/clean_data.csv', index=False)"
   ]
  },
  {
   "cell_type": "code",
   "execution_count": 18,
   "metadata": {},
   "outputs": [
    {
     "data": {
      "text/plain": [
       "(1196, 22)"
      ]
     },
     "execution_count": 18,
     "metadata": {},
     "output_type": "execute_result"
    }
   ],
   "source": [
    "clean_data.shape"
   ]
  },
  {
   "cell_type": "code",
   "execution_count": 19,
   "metadata": {},
   "outputs": [
    {
     "name": "stdout",
     "output_type": "stream",
     "text": [
      "Target column values:2\n",
      "Target column values:2\n"
     ]
    }
   ],
   "source": [
    "from data_preprocessor import simple_model\n",
    "# 4. Train and evaluate the model\n",
    "# Check if target is categorical as simple_model expects a categorical target. If not, convert it.\n",
    "# if clean_data['target'].dtype != 'category':\n",
    "#     clean_data['target'] = clean_data['target'].astype('category')\n",
    "\n",
    "# simple_model(clean_data)\n",
    "print (f\"Target column values:{clean_data['target'].nunique()}\")\n",
    "# Target column has nan and for categorical target, we need to drop rows with nan in target column\n",
    "clean_data = clean_data.dropna(subset=['target'])\n",
    "print (f\"Target column values:{clean_data['target'].nunique()}\")\n",
    "# Convert target column to categorical type\n",
    "clean_data['target'] = clean_data['target'].astype('category')"
   ]
  },
  {
   "cell_type": "code",
   "execution_count": 20,
   "metadata": {},
   "outputs": [
    {
     "name": "stdout",
     "output_type": "stream",
     "text": [
      "Accuracy: 0.8533333333333334\n"
     ]
    }
   ],
   "source": [
    "simple_model(clean_data)\n"
   ]
  }
 ],
 "metadata": {
  "kernelspec": {
   "display_name": "base",
   "language": "python",
   "name": "python3"
  },
  "language_info": {
   "codemirror_mode": {
    "name": "ipython",
    "version": 3
   },
   "file_extension": ".py",
   "mimetype": "text/x-python",
   "name": "python",
   "nbconvert_exporter": "python",
   "pygments_lexer": "ipython3",
   "version": "3.12.4"
  }
 },
 "nbformat": 4,
 "nbformat_minor": 2
}
